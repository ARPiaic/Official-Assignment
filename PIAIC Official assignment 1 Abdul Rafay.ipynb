{
 "cells": [
  {
   "cell_type": "markdown",
   "metadata": {},
   "source": [
    "## 1. Calculate Area of a Circle"
   ]
  },
  {
   "cell_type": "markdown",
   "metadata": {},
   "source": [
    "#### Write a Python program which accepts the radius of a circle from the user and compute the area.\n",
    "###### Program Console Sample Output 1:\n",
    "###### Input Radius: 0.5\n",
    "###### Area of Circle with radius 0.5 is 0.7853981634"
   ]
  },
  {
   "cell_type": "code",
   "execution_count": 1,
   "metadata": {},
   "outputs": [
    {
     "name": "stdout",
     "output_type": "stream",
     "text": [
      "Enter Radius of a Circle: 5\n",
      "Area of Circle with radius 5.0 is 78.53981633974999\n"
     ]
    }
   ],
   "source": [
    "user_radius = float(input(\"Enter Radius of a Circle: \"))\n",
    "pi_stdVal = 3.14159265359\n",
    "calc_area = pi_stdVal * user_radius * user_radius\n",
    "print(\"Area of Circle with radius\",user_radius,\"is\",calc_area)"
   ]
  },
  {
   "cell_type": "code",
   "execution_count": 2,
   "metadata": {},
   "outputs": [
    {
     "name": "stdout",
     "output_type": "stream",
     "text": [
      "Enter Radius of a Circle: 2\n",
      "Area of Circle with radius 2.0 is 12.56637061436\n"
     ]
    }
   ],
   "source": [
    "user_radius = float(input(\"Enter Radius of a Circle: \"))\n",
    "pi_stdVal = 3.14159265359\n",
    "calc_area = pi_stdVal * user_radius * user_radius\n",
    "print(\"Area of Circle with radius\",user_radius,\"is\",calc_area)"
   ]
  },
  {
   "cell_type": "code",
   "execution_count": null,
   "metadata": {},
   "outputs": [],
   "source": []
  },
  {
   "cell_type": "markdown",
   "metadata": {},
   "source": [
    "## 2. Check Number either positive, negative or zero"
   ]
  },
  {
   "cell_type": "markdown",
   "metadata": {},
   "source": [
    "#### Write a Python program to check if a number is positive, negative or zero\n",
    "###### Program Console Sample Output 1:\n",
    "###### Enter Number: -1\n",
    "##### Negative Number Entered\n",
    "###### Program Console Sample Output 2:\n",
    "##### Integer: 3\n",
    "##### Positive Number Entered\n",
    "###### Program Console Sample Output 3:\n",
    "##### Integer: 0\n",
    "###### Zero Entered"
   ]
  },
  {
   "cell_type": "code",
   "execution_count": 3,
   "metadata": {},
   "outputs": [
    {
     "name": "stdout",
     "output_type": "stream",
     "text": [
      "Enter a number : 23\n",
      "Positive Number Entered\n"
     ]
    }
   ],
   "source": [
    "user_inputnumber= int(input(\"Enter a number : \" ))\n",
    "if user_inputnumber>0:\n",
    "    print(\"Positive Number Entered\" )\n",
    "elif user_inputnumber == 0 :\n",
    "    print(\"Zero Entered\")\n",
    "else :\n",
    "    print(\"Negative Number Entered\")"
   ]
  },
  {
   "cell_type": "code",
   "execution_count": 4,
   "metadata": {},
   "outputs": [
    {
     "name": "stdout",
     "output_type": "stream",
     "text": [
      "Enter a number : -25\n",
      "Negative Number Entered\n"
     ]
    }
   ],
   "source": [
    "user_inputnumber= int(input(\"Enter a number : \" ))\n",
    "if user_inputnumber>0:\n",
    "    print(\"Positive Number Entered\" )\n",
    "elif user_inputnumber == 0 :\n",
    "    print(\"Zero Entered\")\n",
    "else :\n",
    "    print(\"Negative Number Entered\")"
   ]
  },
  {
   "cell_type": "code",
   "execution_count": 5,
   "metadata": {},
   "outputs": [
    {
     "name": "stdout",
     "output_type": "stream",
     "text": [
      "Enter a number : 0\n",
      "Zero Entered\n"
     ]
    }
   ],
   "source": [
    "user_inputnumber= int(input(\"Enter a number : \" ))\n",
    "if user_inputnumber>0:\n",
    "    print(\"Positive Number Entered\" )\n",
    "elif user_inputnumber == 0 :\n",
    "    print(\"Zero Entered\")\n",
    "else :\n",
    "    print(\"Negative Number Entered\")"
   ]
  },
  {
   "cell_type": "code",
   "execution_count": null,
   "metadata": {},
   "outputs": [],
   "source": []
  },
  {
   "cell_type": "markdown",
   "metadata": {},
   "source": [
    "## 3. Divisibility Check of two numbers"
   ]
  },
  {
   "cell_type": "markdown",
   "metadata": {},
   "source": [
    "#### Write a Python program to check whether a number is completely divisible by another number. Accept two integer values form the user\n",
    "##### Program Console Sample Output 1:\n",
    "###### Enter numerator: 4\n",
    "###### Enter Denominator: 2\n",
    "##### Number 4 is Completely divisible by 2\n",
    "###### Program Console Sample Output 2:\n",
    "##### Enter numerator: 7\n",
    "\n",
    "##### Enter Denominator: 4\n",
    "###### Number 7 is not Completely divisible by 4"
   ]
  },
  {
   "cell_type": "code",
   "execution_count": 6,
   "metadata": {},
   "outputs": [
    {
     "name": "stdout",
     "output_type": "stream",
     "text": [
      "Enter a numerator: 6\n",
      "Enter a Denominator: 3\n",
      "Number 6 is completely divisible by 3 \n"
     ]
    }
   ],
   "source": [
    "user_inputnumber1= int(input('Enter a numerator: '))\n",
    "user_inputnumber2 =int(input('Enter a Denominator: '))\n",
    "if user_inputnumber1%user_inputnumber2== 0:\n",
    "    print('Number %i is completely divisible by %i '%(user_inputnumber1,user_inputnumber2))\n",
    "else :\n",
    "    print('Number %i is not completely divisible by %i '%(user_inputnumber1,user_inputnumber2))"
   ]
  },
  {
   "cell_type": "code",
   "execution_count": 7,
   "metadata": {},
   "outputs": [
    {
     "name": "stdout",
     "output_type": "stream",
     "text": [
      "Enter a numerator: 6\n",
      "Enter a Denominator: 4\n",
      "Number 6 is not completely divisible by 4 \n"
     ]
    }
   ],
   "source": [
    "user_inputnumber1= int(input('Enter a numerator: '))\n",
    "user_inputnumber2 =int(input('Enter a Denominator: '))\n",
    "if user_inputnumber1%user_inputnumber2== 0:\n",
    "    print('Number %i is completely divisible by %i '%(user_inputnumber1,user_inputnumber2))\n",
    "else :\n",
    "    print('Number %i is not completely divisible by %i '%(user_inputnumber1,user_inputnumber2))"
   ]
  },
  {
   "cell_type": "code",
   "execution_count": null,
   "metadata": {},
   "outputs": [],
   "source": []
  },
  {
   "cell_type": "code",
   "execution_count": null,
   "metadata": {},
   "outputs": [],
   "source": []
  },
  {
   "cell_type": "code",
   "execution_count": null,
   "metadata": {},
   "outputs": [],
   "source": []
  },
  {
   "cell_type": "code",
   "execution_count": null,
   "metadata": {},
   "outputs": [],
   "source": []
  },
  {
   "cell_type": "markdown",
   "metadata": {},
   "source": [
    "## 4. Calculate Volume of a sphere"
   ]
  },
  {
   "cell_type": "markdown",
   "metadata": {},
   "source": [
    "##### Write a Python program to get the volume of a sphere, please take the radius as input from user"
   ]
  },
  {
   "cell_type": "markdown",
   "metadata": {},
   "source": [
    "##### Program Console Output:\n",
    "##### Enter Radius of Sphere: 1\n",
    "###### Volume of the Sphere with Radius 1 is 4.18"
   ]
  },
  {
   "cell_type": "code",
   "execution_count": 8,
   "metadata": {},
   "outputs": [
    {
     "name": "stdout",
     "output_type": "stream",
     "text": [
      "Enter Radius of a Circle: 4.6\n",
      "Volume of the Sphere with Radius 4.6 is 407.7200833731149\n"
     ]
    }
   ],
   "source": [
    "user_radius = float(input(\"Enter Radius of a Circle: \"))\n",
    "pi_stdVal = 3.14159265359\n",
    "result_Volume= (4/3*pi_stdVal* user_radius**3)\n",
    "print(\"Volume of the Sphere with Radius\",user_radius,\"is\",result_Volume)"
   ]
  },
  {
   "cell_type": "code",
   "execution_count": 9,
   "metadata": {},
   "outputs": [
    {
     "name": "stdout",
     "output_type": "stream",
     "text": [
      "Enter Radius of a Circle: 1.7\n",
      "Volume of the Sphere with Radius 1.7 is 20.57952627611689\n"
     ]
    }
   ],
   "source": [
    "user_radius = float(input(\"Enter Radius of a Circle: \"))\n",
    "pi_stdVal = 3.14159265359\n",
    "result_Volume= (4/3*pi_stdVal* user_radius**3)\n",
    "print(\"Volume of the Sphere with Radius\",user_radius,\"is\",result_Volume)"
   ]
  },
  {
   "cell_type": "code",
   "execution_count": null,
   "metadata": {},
   "outputs": [],
   "source": []
  },
  {
   "cell_type": "code",
   "execution_count": null,
   "metadata": {},
   "outputs": [],
   "source": []
  },
  {
   "cell_type": "code",
   "execution_count": null,
   "metadata": {},
   "outputs": [],
   "source": []
  },
  {
   "cell_type": "markdown",
   "metadata": {},
   "source": [
    "## 5. Copy string n times\n",
    "#### Write a Python program to get a string which is n (non-negative integer) copies of a given string.\n",
    "##### Program Console Output:\n",
    "##### Enter String: Hi\n",
    "###### How many copies of String you need: 4\n",
    "###### 4 Copies of Hi are HiHiHiHi"
   ]
  },
  {
   "cell_type": "code",
   "execution_count": 10,
   "metadata": {},
   "outputs": [
    {
     "name": "stdout",
     "output_type": "stream",
     "text": [
      "Enter String: Abdul\n",
      "How many copies of String you need: 7\n",
      "7 Copies of   Abdul are  AbdulAbdulAbdulAbdulAbdulAbdulAbdul\n"
     ]
    }
   ],
   "source": [
    "user_inputname=str(input(\"Enter String: \"))\n",
    "user_reqnumber=int(input(\"How many copies of String you need: \"))\n",
    "result_name=user_inputname * user_reqnumber\n",
    "print(user_reqnumber,\"Copies of  \",user_inputname,\"are \",result_name)"
   ]
  },
  {
   "cell_type": "code",
   "execution_count": 11,
   "metadata": {},
   "outputs": [
    {
     "name": "stdout",
     "output_type": "stream",
     "text": [
      "Enter String: Hello\n",
      "How many copies of String you need: 2\n",
      "2 Copies of   Hello are  HelloHello\n"
     ]
    }
   ],
   "source": [
    "user_inputname=str(input(\"Enter String: \"))\n",
    "user_reqnumber=int(input(\"How many copies of String you need: \"))\n",
    "result_name=user_inputname * user_reqnumber\n",
    "print(user_reqnumber,\"Copies of  \",user_inputname,\"are \",result_name)"
   ]
  },
  {
   "cell_type": "code",
   "execution_count": null,
   "metadata": {},
   "outputs": [],
   "source": []
  },
  {
   "cell_type": "code",
   "execution_count": null,
   "metadata": {},
   "outputs": [],
   "source": []
  },
  {
   "cell_type": "code",
   "execution_count": null,
   "metadata": {},
   "outputs": [],
   "source": []
  },
  {
   "cell_type": "markdown",
   "metadata": {},
   "source": [
    "## 6. Check if number is Even or Odd\n",
    "### Write a Python program to find whether a given number (accept from the user) is even or odd, print out an appropriate message to the user\n",
    "#### Program Console Output 1:\n",
    "##### Enter Number: 4\n",
    "###### 4 is Even\n",
    "#### Program Console Output 2:\n",
    "##### Enter Number: 9\n",
    "###### 9 is Odd"
   ]
  },
  {
   "cell_type": "code",
   "execution_count": 12,
   "metadata": {},
   "outputs": [
    {
     "name": "stdout",
     "output_type": "stream",
     "text": [
      "Enter Number: 2\n",
      "2 is Even\n"
     ]
    }
   ],
   "source": [
    "user_input = int(input(\"Enter Number: \"))\n",
    "result_user = user_input % 2\n",
    "if result_user > 0:\n",
    "    print(user_input,\"is Odd\")\n",
    "else:\n",
    "    print(user_input,\"is Even\")"
   ]
  },
  {
   "cell_type": "code",
   "execution_count": 13,
   "metadata": {},
   "outputs": [
    {
     "name": "stdout",
     "output_type": "stream",
     "text": [
      "Enter Number: 1\n",
      "1 is Odd\n"
     ]
    }
   ],
   "source": [
    "user_input = int(input(\"Enter Number: \"))\n",
    "result_user = user_input % 2\n",
    "if result_user > 0:\n",
    "    print(user_input,\"is Odd\")\n",
    "else:\n",
    "    print(user_input,\"is Even\")"
   ]
  },
  {
   "cell_type": "code",
   "execution_count": null,
   "metadata": {},
   "outputs": [],
   "source": []
  },
  {
   "cell_type": "code",
   "execution_count": null,
   "metadata": {},
   "outputs": [],
   "source": []
  },
  {
   "cell_type": "code",
   "execution_count": null,
   "metadata": {},
   "outputs": [],
   "source": []
  },
  {
   "cell_type": "markdown",
   "metadata": {},
   "source": [
    "## 7. Vowel Tester\n",
    "### Write a Python program to test whether a passed letter is a vowel or not\n",
    "#### Program Console Output 1:\n",
    "##### Enter a character: A\n",
    "###### Letter A is Vowel\n",
    "#### Program Console Output 2:\n",
    "##### Enter a character: e\n",
    "###### Letter e is Vowel\n",
    "#### Program Console Output 2:\n",
    "##### Enter a character: N\n",
    "###### Letter N is not Vowel"
   ]
  },
  {
   "cell_type": "code",
   "execution_count": 15,
   "metadata": {},
   "outputs": [
    {
     "name": "stdout",
     "output_type": "stream",
     "text": [
      "Enter a character :A\n",
      "Letter A is Vowel\n"
     ]
    }
   ],
   "source": [
    "user_input= str(input(\"Enter a character :\"))\n",
    "user_input = user_input.upper()\n",
    "if(user_input==\"A\" or user_input==\"E\" or user_input==\"I\" or user_input==\"O\"or user_input==\"U\"):\n",
    "    print(\"Letter\",user_input,\"is Vowel\")\n",
    "else:\n",
    "    print(\"Letter\",user_input,\"is not Vowel\")"
   ]
  },
  {
   "cell_type": "code",
   "execution_count": 16,
   "metadata": {},
   "outputs": [
    {
     "name": "stdout",
     "output_type": "stream",
     "text": [
      "Enter a character :E\n",
      "Letter E is Vowel\n"
     ]
    }
   ],
   "source": [
    "user_input= str(input(\"Enter a character :\"))\n",
    "user_input = user_input.upper()\n",
    "if(user_input==\"A\" or user_input==\"E\" or user_input==\"I\" or user_input==\"O\"or user_input==\"U\"):\n",
    "    print(\"Letter\",user_input,\"is Vowel\")\n",
    "else:\n",
    "    print(\"Letter\",user_input,\"is not Vowel\")"
   ]
  },
  {
   "cell_type": "code",
   "execution_count": 17,
   "metadata": {},
   "outputs": [
    {
     "name": "stdout",
     "output_type": "stream",
     "text": [
      "Enter a character :N\n",
      "Letter N is not Vowel\n"
     ]
    }
   ],
   "source": [
    "user_input= str(input(\"Enter a character :\"))\n",
    "user_input = user_input.upper()\n",
    "if(user_input==\"A\" or user_input==\"E\" or user_input==\"I\" or user_input==\"O\"or user_input==\"U\"):\n",
    "    print(\"Letter\",user_input,\"is Vowel\")\n",
    "else:\n",
    "    print(\"Letter\",user_input,\"is not Vowel\")"
   ]
  },
  {
   "cell_type": "code",
   "execution_count": null,
   "metadata": {},
   "outputs": [],
   "source": []
  },
  {
   "cell_type": "markdown",
   "metadata": {},
   "source": [
    "## 8. Triangle area\n",
    "### Write a Python program that will accept the base and height of a triangle and compute the area\n",
    "###### Reference:\n",
    "https://www.mathgoodies.com/lessons/vol1/area_triangle"
   ]
  },
  {
   "cell_type": "code",
   "execution_count": 18,
   "metadata": {},
   "outputs": [
    {
     "name": "stdout",
     "output_type": "stream",
     "text": [
      "Enter the Base of Triangle : 4\n",
      "Enter the Height of Triangle : 2\n",
      "Area of Triangle is  4.0\n"
     ]
    }
   ],
   "source": [
    "user_base = int(input(\"Enter the Base of Triangle : \"))\n",
    "user_height = int(input(\"Enter the Height of Triangle : \"))\n",
    "result_area = user_base * user_height / 2\n",
    "print(\"Area of Triangle is \",result_area)"
   ]
  },
  {
   "cell_type": "code",
   "execution_count": 19,
   "metadata": {},
   "outputs": [
    {
     "name": "stdout",
     "output_type": "stream",
     "text": [
      "Enter the Base of Triangle : 6\n",
      "Enter the Height of Triangle : 3\n",
      "Area of Triangle is  9.0\n"
     ]
    }
   ],
   "source": [
    "user_base = int(input(\"Enter the Base of Triangle : \"))\n",
    "user_height = int(input(\"Enter the Height of Triangle : \"))\n",
    "result_area = user_base * user_height / 2\n",
    "print(\"Area of Triangle is \",result_area)"
   ]
  },
  {
   "cell_type": "code",
   "execution_count": null,
   "metadata": {},
   "outputs": [],
   "source": []
  },
  {
   "cell_type": "code",
   "execution_count": null,
   "metadata": {},
   "outputs": [],
   "source": []
  },
  {
   "cell_type": "markdown",
   "metadata": {},
   "source": [
    "## 9. Calculate Interest\n",
    "### Write a Python program to compute the future value of a specified principal amount, rate of interest, and a number of years\n",
    "#### Program Console Sample 1:\n",
    "##### Please enter principal amount: 10000\n",
    "###### Please Enter Rate of interest in %: 0.1\n",
    "###### Enter number of years for investment: 5\n",
    "###### After 5 years your principal amount 10000 over an interest rate of 0.1 % will be 16105.1"
   ]
  },
  {
   "cell_type": "code",
   "execution_count": 21,
   "metadata": {},
   "outputs": [
    {
     "name": "stdout",
     "output_type": "stream",
     "text": [
      "Please enter principal amount: 500000\n",
      "Please Enter Rate of interest in %: 2.4\n",
      "Enter number of years for investment: 5\n",
      "After 5 years your principal amount 500000 over an interest rate of 2.4 % will be 227177120.0\n"
     ]
    }
   ],
   "source": [
    "user_princpleAmt = int(input(\"Please enter principal amount: \"))\n",
    "user_princpleAmt1 = user_princpleAmt\n",
    "user_interestRate = float(input(\"Please Enter Rate of interest in %: \"))\n",
    "user_noofyear= int(input(\"Enter number of years for investment: \"))\n",
    "for i in range(user_noofyear):\n",
    "    user_princpleAmt= round(user_princpleAmt* (1+user_interestRate),2)\n",
    "print(\"After\",user_noofyear,\"years your principal amount\",user_princpleAmt1,\"over an interest rate of\",user_interestRate,\"% will be\",user_princpleAmt)"
   ]
  },
  {
   "cell_type": "code",
   "execution_count": null,
   "metadata": {},
   "outputs": [],
   "source": []
  },
  {
   "cell_type": "code",
   "execution_count": null,
   "metadata": {},
   "outputs": [],
   "source": []
  },
  {
   "cell_type": "code",
   "execution_count": null,
   "metadata": {},
   "outputs": [],
   "source": []
  },
  {
   "cell_type": "code",
   "execution_count": null,
   "metadata": {},
   "outputs": [],
   "source": []
  },
  {
   "cell_type": "code",
   "execution_count": null,
   "metadata": {},
   "outputs": [],
   "source": []
  },
  {
   "cell_type": "markdown",
   "metadata": {},
   "source": [
    "## 10. Euclidean distance\n",
    "### write a Python program to compute the distance between the points (x1, y1) and (x2, y2).\n",
    "#### Program Console Sample 1:\n",
    "###### Enter Co-ordinate for x1: 2\n",
    "###### Enter Co-ordinate for x2: 4\n",
    "###### Enter Co-ordinate for y1: 4\n",
    "###### Enter Co-ordinate for y2: 4\n",
    "###### Distance between points (2, 4) and (4, 4) is 2"
   ]
  },
  {
   "cell_type": "markdown",
   "metadata": {},
   "source": [
    "###### Reference:\n",
    "https://en.wikipedia.org/wiki/Euclidean_distance"
   ]
  },
  {
   "cell_type": "code",
   "execution_count": 22,
   "metadata": {},
   "outputs": [
    {
     "name": "stdout",
     "output_type": "stream",
     "text": [
      "Enter Co-ordinate for x1: 3\n",
      "Enter Co-ordinate for x2: 4\n",
      "Enter Co-ordinate for y1: 2\n",
      "Enter Co-ordinate for y2: 6\n",
      "Distance between points ( 3 , 2 ) and ( 4 , 6 ) is 2\n"
     ]
    }
   ],
   "source": [
    "\n",
    "import math\n",
    "x1=int(input(\"Enter Co-ordinate for x1: \"))\n",
    "x2=int(input(\"Enter Co-ordinate for x2: \"))\n",
    "y1=int(input(\"Enter Co-ordinate for y1: \"))\n",
    "y2=int(input(\"Enter Co-ordinate for y2: \"))\n",
    "std_formula = int(math.sqrt( ((x1-y1)**2)+((x2-y2)**2)))\n",
    "print(\"Distance between points (\",x1,\",\",y1,\") and (\",x2,\",\",y2,\") is\",std_formula)"
   ]
  },
  {
   "cell_type": "code",
   "execution_count": null,
   "metadata": {},
   "outputs": [],
   "source": []
  },
  {
   "cell_type": "code",
   "execution_count": null,
   "metadata": {},
   "outputs": [],
   "source": []
  },
  {
   "cell_type": "code",
   "execution_count": null,
   "metadata": {},
   "outputs": [],
   "source": []
  },
  {
   "cell_type": "markdown",
   "metadata": {},
   "source": [
    "## 11. Feet to Centimeter Converter\n",
    "### Write a Python program to convert height in feet to centimetres.\n",
    "##### Program Console Sample 1:\n",
    "###### Enter Height in Feet: 5\n",
    "###### There are 152.4 Cm in 5 ft\n",
    "###### Reference:\n",
    "https://www.rapidtables.com/convert/length/feet-to-cm.html"
   ]
  },
  {
   "cell_type": "code",
   "execution_count": 23,
   "metadata": {},
   "outputs": [
    {
     "name": "stdout",
     "output_type": "stream",
     "text": [
      "Enter Height in Feet:6\n",
      "There are 182.88 Cm in 6.0 ft\n"
     ]
    }
   ],
   "source": [
    "user_inputheight = float(input(\"Enter Height in Feet:\"))\n",
    "std_formula_cm = 30.48\n",
    "result_cm = std_formula_cm * user_inputheight\n",
    "print(\"There are\",result_cm,\"Cm in\",user_inputheight,\"ft\")"
   ]
  },
  {
   "cell_type": "code",
   "execution_count": null,
   "metadata": {},
   "outputs": [],
   "source": []
  },
  {
   "cell_type": "code",
   "execution_count": null,
   "metadata": {},
   "outputs": [],
   "source": []
  },
  {
   "cell_type": "code",
   "execution_count": null,
   "metadata": {},
   "outputs": [],
   "source": []
  },
  {
   "cell_type": "markdown",
   "metadata": {},
   "source": [
    "## 12. BMI Calculator\n",
    "### Write a Python program to calculate body mass index\n",
    "##### Program Console Sample 1:\n",
    "###### Enter Height in Cm: 180\n",
    "###### Enter Weight in Kg: 75\n",
    "###### Your BMI is 23.15"
   ]
  },
  {
   "cell_type": "code",
   "execution_count": 24,
   "metadata": {},
   "outputs": [
    {
     "name": "stdout",
     "output_type": "stream",
     "text": [
      "Enter Height in Cm: 176.786\n",
      "Enter Weight in Kg: 84\n",
      "Your BMI is:  26.88\n"
     ]
    }
   ],
   "source": [
    "user_height = float(input(\"Enter Height in Cm: \"))\n",
    "result_height = user_height / 100\n",
    "user_weight = float(input(\"Enter Weight in Kg: \"))\n",
    "result_height = float(user_weight / (result_height*result_height))\n",
    "print(\"Your BMI is: \",round(result_height,2))"
   ]
  },
  {
   "cell_type": "code",
   "execution_count": null,
   "metadata": {},
   "outputs": [],
   "source": []
  },
  {
   "cell_type": "code",
   "execution_count": null,
   "metadata": {},
   "outputs": [],
   "source": []
  },
  {
   "cell_type": "markdown",
   "metadata": {},
   "source": [
    "## 13. Sum of n Positive Integers\n",
    "### Write a python program to sum of the first n positive integers\n",
    "#### Program Console Sample 1:\n",
    "###### Enter value of n: 5\n",
    "###### Sum of n Positive integers till 5 is 15"
   ]
  },
  {
   "cell_type": "code",
   "execution_count": 25,
   "metadata": {},
   "outputs": [
    {
     "name": "stdout",
     "output_type": "stream",
     "text": [
      "Enter value of n 25\n",
      "Sum of n Positive integers till  25 is 325.0\n"
     ]
    }
   ],
   "source": [
    "user_inputnumber = int(input(\"Enter value of n \"))\n",
    "result_integer = (user_inputnumber * (user_inputnumber + 1)) / 2\n",
    "print(\"Sum of n Positive integers till \",user_inputnumber,\"is\",result_integer)"
   ]
  },
  {
   "cell_type": "code",
   "execution_count": null,
   "metadata": {},
   "outputs": [],
   "source": []
  },
  {
   "cell_type": "code",
   "execution_count": null,
   "metadata": {},
   "outputs": [],
   "source": []
  },
  {
   "cell_type": "markdown",
   "metadata": {},
   "source": [
    "## 14. Digits Sum of a Number\n",
    "### Write a Python program to calculate the sum of the digits in an integer\n",
    "#### Program Console Sample 1:\n",
    "##### Enter a number: 15\n",
    "###### Sum of 1 + 5 is 6\n",
    "#### Program Console Sample 2:\n",
    "##### Enter a number: 1234\n",
    "###### Sum of 1 + 2 + 3 + 4 is 10"
   ]
  },
  {
   "cell_type": "code",
   "execution_count": 26,
   "metadata": {},
   "outputs": [
    {
     "name": "stdout",
     "output_type": "stream",
     "text": [
      "Enter a number:3569\n",
      "Sum of digits is: 23\n"
     ]
    }
   ],
   "source": [
    "user_inputnumber = int(input(\"Enter a number:\"))\n",
    "result_total = 0\n",
    "while(user_inputnumber > 0):\n",
    "    result_digit =user_inputnumber % 10\n",
    "    result_total =result_total + result_digit\n",
    "    user_inputnumber = user_inputnumber // 10\n",
    "print(\"Sum of digits is:\",result_total)"
   ]
  },
  {
   "cell_type": "code",
   "execution_count": null,
   "metadata": {},
   "outputs": [],
   "source": []
  },
  {
   "cell_type": "code",
   "execution_count": null,
   "metadata": {},
   "outputs": [],
   "source": []
  },
  {
   "cell_type": "code",
   "execution_count": null,
   "metadata": {},
   "outputs": [],
   "source": []
  },
  {
   "cell_type": "code",
   "execution_count": null,
   "metadata": {},
   "outputs": [],
   "source": []
  },
  {
   "cell_type": "code",
   "execution_count": null,
   "metadata": {},
   "outputs": [],
   "source": []
  },
  {
   "cell_type": "code",
   "execution_count": null,
   "metadata": {},
   "outputs": [],
   "source": []
  },
  {
   "cell_type": "code",
   "execution_count": null,
   "metadata": {},
   "outputs": [],
   "source": []
  }
 ],
 "metadata": {
  "kernelspec": {
   "display_name": "Python 3",
   "language": "python",
   "name": "python3"
  },
  "language_info": {
   "codemirror_mode": {
    "name": "ipython",
    "version": 3
   },
   "file_extension": ".py",
   "mimetype": "text/x-python",
   "name": "python",
   "nbconvert_exporter": "python",
   "pygments_lexer": "ipython3",
   "version": "3.7.3"
  }
 },
 "nbformat": 4,
 "nbformat_minor": 2
}
